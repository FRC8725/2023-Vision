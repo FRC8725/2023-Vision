{
 "cells": [
  {
   "cell_type": "code",
   "execution_count": 30,
   "metadata": {},
   "outputs": [],
   "source": [
    "import cv2 as cv\n",
    "import numpy as np\n",
    "import time\n",
    "import json"
   ]
  },
  {
   "cell_type": "code",
   "execution_count": 31,
   "metadata": {},
   "outputs": [],
   "source": [
    "width = 640\n",
    "height = 480\n",
    "fps = 30\n",
    "\n",
    "with open('camera.json', 'r') as jsonfile:\n",
    "    camera_data = json.load(jsonfile) \n",
    "# setting the cameara matrix\n",
    "# mtx = np.array([[669.76134921, 0., 364.47532344],\n",
    "#                 [0., 669.8613114, 225.14641631],\n",
    "#                 [0., 0., 1.]])\n",
    "mtx = np.array(camera_data['mtx'])\n",
    "dist = np.array(camera_data['dist'])\n",
    "# dist = np.array(\n",
    "#     [[0.09899272, -0.34263704, 0.00170763,  0.01447023,  1.06025138]])\n",
    "# dist = np.array([[0., 0., 0., 0., 0.]])\n",
    "cap = cv.VideoCapture(0)\n",
    "cap.set(5, fps)\n",
    "cap.set(3, width)\n",
    "cap.set(4, height)\n",
    "\n",
    "if not cap.isOpened():\n",
    "    print(\"CAM error\")\n",
    "    exit()"
   ]
  },
  {
   "cell_type": "code",
   "execution_count": 32,
   "metadata": {},
   "outputs": [],
   "source": [
    "while True:\n",
    "    start_time = time.time()\n",
    "    ret, frame = cap.read()\n",
    "\n",
    "    if not ret:\n",
    "        break\n",
    "\n",
    "    output_img = np.copy(frame)\n",
    "    gray = cv.cvtColor(output_img, cv.COLOR_BGR2GRAY)\n",
    "    \n",
    "    #-------------------#\n",
    "    \n",
    "    img = output_img\n",
    "    h,  w = img.shape[:2]\n",
    "    newcameramtx, roi = cv.getOptimalNewCameraMatrix(mtx, dist, (w,h), 1, (w,h))\n",
    "    # undistort\n",
    "    output_img = cv.undistort(img, mtx, dist, None, newcameramtx)\n",
    "    #-------------------#\n",
    "\n",
    "    pocessing_time = time.time() - start_time\n",
    "    fps = 1/pocessing_time\n",
    "    cv.putText(output_img, str(round(fps, 1)), (0, 40),\n",
    "                cv.FONT_HERSHEY_SIMPLEX, 1, (255, 255, 255))\n",
    "    cv.imshow(\"processing\", output_img)\n",
    "\n",
    "    if cv.waitKey(1) == ord('q'):\n",
    "        break\n",
    "\n",
    "cap.release()\n",
    "cv.destroyAllWindows()"
   ]
  },
  {
   "cell_type": "code",
   "execution_count": 4,
   "metadata": {},
   "outputs": [
    {
     "data": {
      "text/plain": [
       "array([[0., 0., 0.],\n",
       "       [1., 0., 0.],\n",
       "       [0., 1., 0.],\n",
       "       [1., 1., 0.]], dtype=float32)"
      ]
     },
     "execution_count": 4,
     "metadata": {},
     "output_type": "execute_result"
    }
   ],
   "source": [
    "import numpy as np\n",
    "objp = np.zeros((2*2,3), np.float32)\n",
    "objp[:,:2] = np.mgrid[0:2,0:2].T.reshape(-1,2)\n",
    "objp"
   ]
  }
 ],
 "metadata": {
  "kernelspec": {
   "display_name": "Python 3.7.12 ('Robot_Vision')",
   "language": "python",
   "name": "python3"
  },
  "language_info": {
   "codemirror_mode": {
    "name": "ipython",
    "version": 3
   },
   "file_extension": ".py",
   "mimetype": "text/x-python",
   "name": "python",
   "nbconvert_exporter": "python",
   "pygments_lexer": "ipython3",
   "version": "3.7.12"
  },
  "orig_nbformat": 4,
  "vscode": {
   "interpreter": {
    "hash": "936533015a7aea219f99ffcf416533bd9d502b76c019d3daa21a9f9fb6c936be"
   }
  }
 },
 "nbformat": 4,
 "nbformat_minor": 2
}
